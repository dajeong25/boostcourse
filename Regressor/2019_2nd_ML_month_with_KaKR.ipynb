{
  "cells": [
    {
      "cell_type": "markdown",
      "metadata": {
        "id": "view-in-github",
        "colab_type": "text"
      },
      "source": [
        "<a href=\"https://colab.research.google.com/github/dajeong25/boostcourse/blob/main/Regressor/2019_2nd_ML_month_with_KaKR.ipynb\" target=\"_parent\"><img src=\"https://colab.research.google.com/assets/colab-badge.svg\" alt=\"Open In Colab\"/></a>"
      ]
    },
    {
      "cell_type": "markdown",
      "metadata": {
        "id": "Nma_JWh-W-IF"
      },
      "source": [
        "## 캐글 코리아와 함께하는 2nd ML 대회 - House Price Prediction\n",
        "https://www.kaggle.com/competitions/2019-2nd-ml-month-with-kakr"
      ]
    },
    {
      "cell_type": "code",
      "source": [
        "# 데이터 다운로드 \n",
        "!wget –no-check-certificate 'https://docs.google.com/uc?export=download&id=1IVvuG3SMlarSSGmcliGFjq1fMxZtksE0' -O kaggle-kakr-housing-data.zip"
      ],
      "metadata": {
        "colab": {
          "base_uri": "https://localhost:8080/"
        },
        "id": "-oZF9G4v1KyQ",
        "outputId": "a5e50e7f-ddcc-4c6d-a437-784a5ca921d3"
      },
      "execution_count": 1,
      "outputs": [
        {
          "output_type": "stream",
          "name": "stdout",
          "text": [
            "--2023-05-15 06:11:11--  http://xn--no-check-certificate-2t2l/\n",
            "Resolving xn--no-check-certificate-2t2l (xn--no-check-certificate-2t2l)... failed: Name or service not known.\n",
            "wget: unable to resolve host address ‘xn--no-check-certificate-2t2l’\n",
            "--2023-05-15 06:11:11--  https://docs.google.com/uc?export=download&id=1IVvuG3SMlarSSGmcliGFjq1fMxZtksE0\n",
            "Resolving docs.google.com (docs.google.com)... 142.250.141.113, 142.250.141.138, 142.250.141.101, ...\n",
            "Connecting to docs.google.com (docs.google.com)|142.250.141.113|:443... connected.\n",
            "HTTP request sent, awaiting response... 303 See Other\n",
            "Location: https://doc-00-b8-docs.googleusercontent.com/docs/securesc/ha0ro937gcuc7l7deffksulhg5h7mbp1/c5l8hdekohfn0dq21rmdsv92krqi5kot/1684131000000/17597719433809694239/*/1IVvuG3SMlarSSGmcliGFjq1fMxZtksE0?e=download&uuid=6bc40912-a417-40e1-8925-d69d9b30290c [following]\n",
            "Warning: wildcards not supported in HTTP.\n",
            "--2023-05-15 06:11:12--  https://doc-00-b8-docs.googleusercontent.com/docs/securesc/ha0ro937gcuc7l7deffksulhg5h7mbp1/c5l8hdekohfn0dq21rmdsv92krqi5kot/1684131000000/17597719433809694239/*/1IVvuG3SMlarSSGmcliGFjq1fMxZtksE0?e=download&uuid=6bc40912-a417-40e1-8925-d69d9b30290c\n",
            "Resolving doc-00-b8-docs.googleusercontent.com (doc-00-b8-docs.googleusercontent.com)... 74.125.137.132, 2607:f8b0:4023:c03::84\n",
            "Connecting to doc-00-b8-docs.googleusercontent.com (doc-00-b8-docs.googleusercontent.com)|74.125.137.132|:443... connected.\n",
            "HTTP request sent, awaiting response... 200 OK\n",
            "Length: 693719 (677K) [application/zip]\n",
            "Saving to: ‘kaggle-kakr-housing-data.zip’\n",
            "\n",
            "kaggle-kakr-housing 100%[===================>] 677.46K  --.-KB/s    in 0.1s    \n",
            "\n",
            "2023-05-15 06:11:13 (5.09 MB/s) - ‘kaggle-kakr-housing-data.zip’ saved [693719/693719]\n",
            "\n",
            "FINISHED --2023-05-15 06:11:13--\n",
            "Total wall clock time: 1.5s\n",
            "Downloaded: 1 files, 677K in 0.1s (5.09 MB/s)\n"
          ]
        }
      ]
    },
    {
      "cell_type": "markdown",
      "source": [
        "압축도 풀어줍니다."
      ],
      "metadata": {
        "id": "B1EBTEPM1Tmw"
      }
    },
    {
      "cell_type": "code",
      "source": [
        "# 다운로드 받은 zip파일 압축풀기\n",
        "!unzip -qq ./kaggle-kakr-housing-data.zip"
      ],
      "metadata": {
        "id": "EBOtdDT31Nob"
      },
      "execution_count": 2,
      "outputs": []
    },
    {
      "cell_type": "markdown",
      "source": [
        "## 데이터 살펴보기\n",
        "1. ID : 집을 구분하는 번호\n",
        "2. date : 집을 구매한 날짜\n",
        "3. **price : 타겟 변수인 집의 가격**\n",
        "4. bedrooms : 침실의 수\n",
        "5. bathrooms : 침실당 화장실 개수\n",
        "6. sqft_living : 주거 공간의 평방 피트\n",
        "7. sqft_lot : 부지의 평방 피트\n",
        "8. floors : 집의 층수\n",
        "9. waterfront : 집의 전방에 강이 흐르는지 유무 (a.k.a. 리버뷰)\n",
        "10. view : 집이 얼마나 좋아 보이는지의 정도\n",
        "11. condition : 집의 전반적인 상태\n",
        "12. grade : King County grading 시스템 기준으로 매긴 집의 등급\n",
        "13. sqft_above : 지하실을 제외한 평방 피트\n",
        "14. sqft_basement : 지하실의 평방 피트\n",
        "15. yr_built : 집을 지은 년도\n",
        "16. yr_renovated : 집을 재건축한 년도\n",
        "17. zipcode : 우편번호\n",
        "18. lat : 위도\n",
        "19. long : 경도\n",
        "20. sqft_living15 : 근처 15 가구의 주거 공간, 평방 피트\n",
        "21. sqft_lot15 : 근처 15가구의 부지, 평방 피트\n",
        "\n",
        "> baseline 참고\n",
        "https://www.kaggle.com/code/kcs93023/2019-ml-month-2nd-baseline/notebook"
      ],
      "metadata": {
        "id": "36ge7uq6-j87"
      }
    },
    {
      "cell_type": "code",
      "source": [
        "import warnings\n",
        "warnings.filterwarnings(\"ignore\")\n",
        "\n",
        "import os\n",
        "from os.path import join\n",
        "\n",
        "import pandas as pd\n",
        "import numpy as np\n",
        "\n",
        "from sklearn.ensemble import GradientBoostingRegressor\n",
        "from sklearn.model_selection import KFold, cross_val_score\n",
        "import xgboost as xgb\n",
        "import lightgbm as lgb\n",
        "\n",
        "import seaborn as sns\n",
        "import matplotlib.pyplot as plt\n",
        "\n",
        "%matplotlib inline\n",
        "%config InlineBackend.figure_format = 'retina'\n",
        "\n",
        "#--------------------------------------------------------------------------------------------------------------------------------------\n",
        "\n",
        "train_data_path = join('./data/train.csv')\n",
        "sub_data_path = join('./data/test.csv')\n",
        "\n",
        "data = pd.read_csv(train_data_path)\n",
        "sub = pd.read_csv(sub_data_path)\n",
        "\n",
        "#target 값 분리\n",
        "y = data['price'] \n",
        "del data['price']\n",
        "\n",
        "train_len = len(data)\n",
        "data = pd.concat((data, sub), axis=0)\n",
        "\n",
        "# id, date 변수 정리\n",
        "sub_id = data['id'][train_len:]\n",
        "del data['id']\n",
        "data['date'] = data['date'].apply(lambda x : str(x[:6])).astype(int)\n",
        "\n",
        "# 분포확인 후 치우친 데이터 분포 조절(log 변환)\n",
        "skew_columns = ['bedrooms', 'sqft_living', 'sqft_lot', 'sqft_above', 'sqft_basement']\n",
        "\n",
        "for c in skew_columns:\n",
        "    data[c] = np.log1p(data[c].values)\n",
        "\n",
        "y_log_transformation = np.log1p(y)\n",
        "\n",
        "# train - test 데이터 분리\n",
        "sub = data.iloc[train_len:, :] # test data\n",
        "x = data.iloc[:train_len, :] # train data\n",
        "\n",
        "print(x.shape)\n",
        "print(sub.shape)"
      ],
      "metadata": {
        "id": "m_qx4Pdk0JS2",
        "colab": {
          "base_uri": "https://localhost:8080/"
        },
        "outputId": "64b009e2-be74-43e5-b947-1b7aa6e0cd1d"
      },
      "execution_count": 3,
      "outputs": [
        {
          "output_type": "stream",
          "name": "stdout",
          "text": [
            "(15035, 19)\n",
            "(6468, 19)\n"
          ]
        }
      ]
    },
    {
      "cell_type": "markdown",
      "metadata": {
        "id": "GJBs_flRovLc"
      },
      "source": [
        "## 모델링"
      ]
    },
    {
      "cell_type": "code",
      "source": [
        "gboost = GradientBoostingRegressor(random_state=2023)\n",
        "xgboost = xgb.XGBRegressor(random_state=2023)\n",
        "lightgbm = lgb.LGBMRegressor(random_state=2023)\n",
        "\n",
        "models = [{'model':gboost, 'name':'GradientBoosting'}, {'model':xgboost, 'name':'XGBoost'},\n",
        "          {'model':lightgbm, 'name':'LightGBM'}]"
      ],
      "metadata": {
        "id": "UB0HpO7c8H2L"
      },
      "execution_count": 4,
      "outputs": []
    },
    {
      "cell_type": "markdown",
      "source": [
        "### Cross Validation 교차검증\n",
        "모델 성능 평가"
      ],
      "metadata": {
        "id": "ZxcF4jNFBbP-"
      }
    },
    {
      "cell_type": "code",
      "source": [
        "def get_cv_score(models):\n",
        "    kfold = KFold(n_splits=5).get_n_splits(x.values)\n",
        "    for m in models:\n",
        "      print(\"Model {} CV score : {:.4f}\".format(m['name'], np.mean(cross_val_score(m['model'], x.values, y)), \n",
        "                                             kf=kfold))"
      ],
      "metadata": {
        "id": "vR2p9CnVBqUj"
      },
      "execution_count": 15,
      "outputs": []
    },
    {
      "cell_type": "markdown",
      "source": [
        "이제 `get_cv_score`함수에 우리의 모델을 넣고 테스트 해보겠습니다."
      ],
      "metadata": {
        "id": "jZ2zfy7c8-_h"
      }
    },
    {
      "cell_type": "code",
      "source": [
        "get_cv_score(models)"
      ],
      "metadata": {
        "colab": {
          "base_uri": "https://localhost:8080/"
        },
        "id": "8QB0omts8-Qw",
        "outputId": "059e0745-6e21-4aeb-e6d5-418301ba6785"
      },
      "execution_count": 16,
      "outputs": [
        {
          "output_type": "stream",
          "name": "stdout",
          "text": [
            "Model GradientBoosting CV score : 0.8609\n",
            "Model XGBoost CV score : 0.8861\n",
            "Model LightGBM CV score : 0.8819\n"
          ]
        }
      ]
    },
    {
      "cell_type": "markdown",
      "source": [
        "## Make Submission\n",
        "[회귀모델] cross_val_score 함수 - R2 반환"
      ],
      "metadata": {
        "id": "FIMVqyhrD11Y"
      }
    },
    {
      "cell_type": "code",
      "source": [
        "def AveragingBlending(models, x, y, sub_x):\n",
        "    # 모델학습\n",
        "    for m in models : \n",
        "        m['model'].fit(x.values, y)\n",
        "    \n",
        "    # 모델예측\n",
        "    predictions = np.column_stack([\n",
        "        m['model'].predict(sub_x.values) for m in models])\n",
        "\n",
        "    # 각 모델 에측의 평균을 return\n",
        "    return np.mean(predictions, axis=1)"
      ],
      "metadata": {
        "id": "RgE09suoFo6C"
      },
      "execution_count": null,
      "outputs": []
    },
    {
      "cell_type": "code",
      "source": [
        "y_pred = AveragingBlending(models, x, y, sub)\n",
        "print(len(y_pred))\n",
        "y_pred"
      ],
      "metadata": {
        "colab": {
          "base_uri": "https://localhost:8080/"
        },
        "id": "MlXNBeyjFyhm",
        "outputId": "2e682cd7-f258-4bb9-c48a-b055e75168c2"
      },
      "execution_count": null,
      "outputs": [
        {
          "output_type": "stream",
          "name": "stdout",
          "text": [
            "6468\n"
          ]
        },
        {
          "output_type": "execute_result",
          "data": {
            "text/plain": [
              "array([ 529966.66304912,  430726.21272617, 1361676.91242777, ...,\n",
              "        452081.69137012,  341572.97685942,  421725.1231835 ])"
            ]
          },
          "metadata": {},
          "execution_count": 8
        }
      ]
    },
    {
      "cell_type": "code",
      "source": [
        "# 샘플파일 확인\n",
        "submission = pd.read_csv('./data/sample_submission.csv')\n",
        "submission.head()"
      ],
      "metadata": {
        "colab": {
          "base_uri": "https://localhost:8080/",
          "height": 206
        },
        "id": "GW0qyBxtGbb0",
        "outputId": "72663b16-a27c-49df-943d-525f1dd20eda"
      },
      "execution_count": null,
      "outputs": [
        {
          "output_type": "execute_result",
          "data": {
            "text/plain": [
              "      id   price\n",
              "0  15035  100000\n",
              "1  15036  100000\n",
              "2  15037  100000\n",
              "3  15038  100000\n",
              "4  15039  100000"
            ],
            "text/html": [
              "\n",
              "  <div id=\"df-375b630b-cf30-4fda-9c52-3a1268705c81\">\n",
              "    <div class=\"colab-df-container\">\n",
              "      <div>\n",
              "<style scoped>\n",
              "    .dataframe tbody tr th:only-of-type {\n",
              "        vertical-align: middle;\n",
              "    }\n",
              "\n",
              "    .dataframe tbody tr th {\n",
              "        vertical-align: top;\n",
              "    }\n",
              "\n",
              "    .dataframe thead th {\n",
              "        text-align: right;\n",
              "    }\n",
              "</style>\n",
              "<table border=\"1\" class=\"dataframe\">\n",
              "  <thead>\n",
              "    <tr style=\"text-align: right;\">\n",
              "      <th></th>\n",
              "      <th>id</th>\n",
              "      <th>price</th>\n",
              "    </tr>\n",
              "  </thead>\n",
              "  <tbody>\n",
              "    <tr>\n",
              "      <th>0</th>\n",
              "      <td>15035</td>\n",
              "      <td>100000</td>\n",
              "    </tr>\n",
              "    <tr>\n",
              "      <th>1</th>\n",
              "      <td>15036</td>\n",
              "      <td>100000</td>\n",
              "    </tr>\n",
              "    <tr>\n",
              "      <th>2</th>\n",
              "      <td>15037</td>\n",
              "      <td>100000</td>\n",
              "    </tr>\n",
              "    <tr>\n",
              "      <th>3</th>\n",
              "      <td>15038</td>\n",
              "      <td>100000</td>\n",
              "    </tr>\n",
              "    <tr>\n",
              "      <th>4</th>\n",
              "      <td>15039</td>\n",
              "      <td>100000</td>\n",
              "    </tr>\n",
              "  </tbody>\n",
              "</table>\n",
              "</div>\n",
              "      <button class=\"colab-df-convert\" onclick=\"convertToInteractive('df-375b630b-cf30-4fda-9c52-3a1268705c81')\"\n",
              "              title=\"Convert this dataframe to an interactive table.\"\n",
              "              style=\"display:none;\">\n",
              "        \n",
              "  <svg xmlns=\"http://www.w3.org/2000/svg\" height=\"24px\"viewBox=\"0 0 24 24\"\n",
              "       width=\"24px\">\n",
              "    <path d=\"M0 0h24v24H0V0z\" fill=\"none\"/>\n",
              "    <path d=\"M18.56 5.44l.94 2.06.94-2.06 2.06-.94-2.06-.94-.94-2.06-.94 2.06-2.06.94zm-11 1L8.5 8.5l.94-2.06 2.06-.94-2.06-.94L8.5 2.5l-.94 2.06-2.06.94zm10 10l.94 2.06.94-2.06 2.06-.94-2.06-.94-.94-2.06-.94 2.06-2.06.94z\"/><path d=\"M17.41 7.96l-1.37-1.37c-.4-.4-.92-.59-1.43-.59-.52 0-1.04.2-1.43.59L10.3 9.45l-7.72 7.72c-.78.78-.78 2.05 0 2.83L4 21.41c.39.39.9.59 1.41.59.51 0 1.02-.2 1.41-.59l7.78-7.78 2.81-2.81c.8-.78.8-2.07 0-2.86zM5.41 20L4 18.59l7.72-7.72 1.47 1.35L5.41 20z\"/>\n",
              "  </svg>\n",
              "      </button>\n",
              "      \n",
              "  <style>\n",
              "    .colab-df-container {\n",
              "      display:flex;\n",
              "      flex-wrap:wrap;\n",
              "      gap: 12px;\n",
              "    }\n",
              "\n",
              "    .colab-df-convert {\n",
              "      background-color: #E8F0FE;\n",
              "      border: none;\n",
              "      border-radius: 50%;\n",
              "      cursor: pointer;\n",
              "      display: none;\n",
              "      fill: #1967D2;\n",
              "      height: 32px;\n",
              "      padding: 0 0 0 0;\n",
              "      width: 32px;\n",
              "    }\n",
              "\n",
              "    .colab-df-convert:hover {\n",
              "      background-color: #E2EBFA;\n",
              "      box-shadow: 0px 1px 2px rgba(60, 64, 67, 0.3), 0px 1px 3px 1px rgba(60, 64, 67, 0.15);\n",
              "      fill: #174EA6;\n",
              "    }\n",
              "\n",
              "    [theme=dark] .colab-df-convert {\n",
              "      background-color: #3B4455;\n",
              "      fill: #D2E3FC;\n",
              "    }\n",
              "\n",
              "    [theme=dark] .colab-df-convert:hover {\n",
              "      background-color: #434B5C;\n",
              "      box-shadow: 0px 1px 3px 1px rgba(0, 0, 0, 0.15);\n",
              "      filter: drop-shadow(0px 1px 2px rgba(0, 0, 0, 0.3));\n",
              "      fill: #FFFFFF;\n",
              "    }\n",
              "  </style>\n",
              "\n",
              "      <script>\n",
              "        const buttonEl =\n",
              "          document.querySelector('#df-375b630b-cf30-4fda-9c52-3a1268705c81 button.colab-df-convert');\n",
              "        buttonEl.style.display =\n",
              "          google.colab.kernel.accessAllowed ? 'block' : 'none';\n",
              "\n",
              "        async function convertToInteractive(key) {\n",
              "          const element = document.querySelector('#df-375b630b-cf30-4fda-9c52-3a1268705c81');\n",
              "          const dataTable =\n",
              "            await google.colab.kernel.invokeFunction('convertToInteractive',\n",
              "                                                     [key], {});\n",
              "          if (!dataTable) return;\n",
              "\n",
              "          const docLinkHtml = 'Like what you see? Visit the ' +\n",
              "            '<a target=\"_blank\" href=https://colab.research.google.com/notebooks/data_table.ipynb>data table notebook</a>'\n",
              "            + ' to learn more about interactive tables.';\n",
              "          element.innerHTML = '';\n",
              "          dataTable['output_type'] = 'display_data';\n",
              "          await google.colab.output.renderOutput(dataTable, element);\n",
              "          const docLink = document.createElement('div');\n",
              "          docLink.innerHTML = docLinkHtml;\n",
              "          element.appendChild(docLink);\n",
              "        }\n",
              "      </script>\n",
              "    </div>\n",
              "  </div>\n",
              "  "
            ]
          },
          "metadata": {},
          "execution_count": 9
        }
      ]
    },
    {
      "cell_type": "code",
      "source": [
        "# 제출 dataframe 생성\n",
        "result = pd.DataFrame({ 'id' : sub_id, 'price' : y_pred})\n",
        "result.head()"
      ],
      "metadata": {
        "colab": {
          "base_uri": "https://localhost:8080/",
          "height": 206
        },
        "id": "IvtjWiWaHXJp",
        "outputId": "a0ccf841-aec5-4986-81a9-f5924d50b9c9"
      },
      "execution_count": null,
      "outputs": [
        {
          "output_type": "execute_result",
          "data": {
            "text/plain": [
              "      id         price\n",
              "0  15035  5.299667e+05\n",
              "1  15036  4.307262e+05\n",
              "2  15037  1.361677e+06\n",
              "3  15038  3.338036e+05\n",
              "4  15039  3.089006e+05"
            ],
            "text/html": [
              "\n",
              "  <div id=\"df-adc812d9-f943-4e21-8f5f-138a9f954542\">\n",
              "    <div class=\"colab-df-container\">\n",
              "      <div>\n",
              "<style scoped>\n",
              "    .dataframe tbody tr th:only-of-type {\n",
              "        vertical-align: middle;\n",
              "    }\n",
              "\n",
              "    .dataframe tbody tr th {\n",
              "        vertical-align: top;\n",
              "    }\n",
              "\n",
              "    .dataframe thead th {\n",
              "        text-align: right;\n",
              "    }\n",
              "</style>\n",
              "<table border=\"1\" class=\"dataframe\">\n",
              "  <thead>\n",
              "    <tr style=\"text-align: right;\">\n",
              "      <th></th>\n",
              "      <th>id</th>\n",
              "      <th>price</th>\n",
              "    </tr>\n",
              "  </thead>\n",
              "  <tbody>\n",
              "    <tr>\n",
              "      <th>0</th>\n",
              "      <td>15035</td>\n",
              "      <td>5.299667e+05</td>\n",
              "    </tr>\n",
              "    <tr>\n",
              "      <th>1</th>\n",
              "      <td>15036</td>\n",
              "      <td>4.307262e+05</td>\n",
              "    </tr>\n",
              "    <tr>\n",
              "      <th>2</th>\n",
              "      <td>15037</td>\n",
              "      <td>1.361677e+06</td>\n",
              "    </tr>\n",
              "    <tr>\n",
              "      <th>3</th>\n",
              "      <td>15038</td>\n",
              "      <td>3.338036e+05</td>\n",
              "    </tr>\n",
              "    <tr>\n",
              "      <th>4</th>\n",
              "      <td>15039</td>\n",
              "      <td>3.089006e+05</td>\n",
              "    </tr>\n",
              "  </tbody>\n",
              "</table>\n",
              "</div>\n",
              "      <button class=\"colab-df-convert\" onclick=\"convertToInteractive('df-adc812d9-f943-4e21-8f5f-138a9f954542')\"\n",
              "              title=\"Convert this dataframe to an interactive table.\"\n",
              "              style=\"display:none;\">\n",
              "        \n",
              "  <svg xmlns=\"http://www.w3.org/2000/svg\" height=\"24px\"viewBox=\"0 0 24 24\"\n",
              "       width=\"24px\">\n",
              "    <path d=\"M0 0h24v24H0V0z\" fill=\"none\"/>\n",
              "    <path d=\"M18.56 5.44l.94 2.06.94-2.06 2.06-.94-2.06-.94-.94-2.06-.94 2.06-2.06.94zm-11 1L8.5 8.5l.94-2.06 2.06-.94-2.06-.94L8.5 2.5l-.94 2.06-2.06.94zm10 10l.94 2.06.94-2.06 2.06-.94-2.06-.94-.94-2.06-.94 2.06-2.06.94z\"/><path d=\"M17.41 7.96l-1.37-1.37c-.4-.4-.92-.59-1.43-.59-.52 0-1.04.2-1.43.59L10.3 9.45l-7.72 7.72c-.78.78-.78 2.05 0 2.83L4 21.41c.39.39.9.59 1.41.59.51 0 1.02-.2 1.41-.59l7.78-7.78 2.81-2.81c.8-.78.8-2.07 0-2.86zM5.41 20L4 18.59l7.72-7.72 1.47 1.35L5.41 20z\"/>\n",
              "  </svg>\n",
              "      </button>\n",
              "      \n",
              "  <style>\n",
              "    .colab-df-container {\n",
              "      display:flex;\n",
              "      flex-wrap:wrap;\n",
              "      gap: 12px;\n",
              "    }\n",
              "\n",
              "    .colab-df-convert {\n",
              "      background-color: #E8F0FE;\n",
              "      border: none;\n",
              "      border-radius: 50%;\n",
              "      cursor: pointer;\n",
              "      display: none;\n",
              "      fill: #1967D2;\n",
              "      height: 32px;\n",
              "      padding: 0 0 0 0;\n",
              "      width: 32px;\n",
              "    }\n",
              "\n",
              "    .colab-df-convert:hover {\n",
              "      background-color: #E2EBFA;\n",
              "      box-shadow: 0px 1px 2px rgba(60, 64, 67, 0.3), 0px 1px 3px 1px rgba(60, 64, 67, 0.15);\n",
              "      fill: #174EA6;\n",
              "    }\n",
              "\n",
              "    [theme=dark] .colab-df-convert {\n",
              "      background-color: #3B4455;\n",
              "      fill: #D2E3FC;\n",
              "    }\n",
              "\n",
              "    [theme=dark] .colab-df-convert:hover {\n",
              "      background-color: #434B5C;\n",
              "      box-shadow: 0px 1px 3px 1px rgba(0, 0, 0, 0.15);\n",
              "      filter: drop-shadow(0px 1px 2px rgba(0, 0, 0, 0.3));\n",
              "      fill: #FFFFFF;\n",
              "    }\n",
              "  </style>\n",
              "\n",
              "      <script>\n",
              "        const buttonEl =\n",
              "          document.querySelector('#df-adc812d9-f943-4e21-8f5f-138a9f954542 button.colab-df-convert');\n",
              "        buttonEl.style.display =\n",
              "          google.colab.kernel.accessAllowed ? 'block' : 'none';\n",
              "\n",
              "        async function convertToInteractive(key) {\n",
              "          const element = document.querySelector('#df-adc812d9-f943-4e21-8f5f-138a9f954542');\n",
              "          const dataTable =\n",
              "            await google.colab.kernel.invokeFunction('convertToInteractive',\n",
              "                                                     [key], {});\n",
              "          if (!dataTable) return;\n",
              "\n",
              "          const docLinkHtml = 'Like what you see? Visit the ' +\n",
              "            '<a target=\"_blank\" href=https://colab.research.google.com/notebooks/data_table.ipynb>data table notebook</a>'\n",
              "            + ' to learn more about interactive tables.';\n",
              "          element.innerHTML = '';\n",
              "          dataTable['output_type'] = 'display_data';\n",
              "          await google.colab.output.renderOutput(dataTable, element);\n",
              "          const docLink = document.createElement('div');\n",
              "          docLink.innerHTML = docLinkHtml;\n",
              "          element.appendChild(docLink);\n",
              "        }\n",
              "      </script>\n",
              "    </div>\n",
              "  </div>\n",
              "  "
            ]
          },
          "metadata": {},
          "execution_count": 10
        }
      ]
    },
    {
      "cell_type": "code",
      "source": [
        "result.to_csv('./data/submission.csv', index=False) "
      ],
      "metadata": {
        "id": "HBPzzN4SHxGy"
      },
      "execution_count": null,
      "outputs": []
    },
    {
      "cell_type": "markdown",
      "source": [
        "```\n",
        "# 첫 Score: 119927.51348\n",
        "```"
      ],
      "metadata": {
        "id": "pqlp5x7kSegk"
      }
    }
  ],
  "metadata": {
    "colab": {
      "provenance": [],
      "include_colab_link": true
    },
    "kernelspec": {
      "display_name": "Python 3",
      "name": "python3"
    }
  },
  "nbformat": 4,
  "nbformat_minor": 0
}